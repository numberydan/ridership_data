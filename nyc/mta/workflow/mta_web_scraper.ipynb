{
 "cells": [
  {
   "cell_type": "code",
   "execution_count": 1,
   "metadata": {},
   "outputs": [],
   "source": [
    "import pandas as pd\n",
    "from urllib.request import urlopen\n",
    "from bs4 import BeautifulSoup\n",
    "import re\n",
    "import datetime\n",
    "import numpy as np"
   ]
  },
  {
   "cell_type": "markdown",
   "metadata": {},
   "source": [
    "Some station reserach stuff\n",
    "https://www1.nyc.gov/assets/planning/download/pdf/plans-studies/sustainable-communities/bmn/bronx_metro_report/fordham.pdf\n",
    "\n",
    "Some random references:\n",
    "\n",
    "http://www.subchat.com/read.asp?Id=892212\n",
    "\n",
    "https://web.archive.org/web/20100613000942/http://www.railroad.net/forums/viewtopic.php?f=67&t=68068\n",
    "\n",
    "http://www.railroad.net/forums/search.php?st=0&sk=t&sd=d&sr=posts&keywords=ridership+station&fid%5B%5D=67&start=15\n",
    "\n",
    "1980 NJT Map\n",
    "http://www.subchat.com/read.asp?Id=693001  http://www.subchat.com/read.asp?Id=693400"
   ]
  },
  {
   "cell_type": "markdown",
   "metadata": {},
   "source": [
    "List of Long Island rail Road Stations \n",
    "\n",
    "https://en.wikipedia.org/wiki/List_of_Long_Island_Rail_Road_stations"
   ]
  },
  {
   "cell_type": "markdown",
   "metadata": {},
   "source": [
    "Some awesome cartography stuff\n",
    "\n",
    "http://www.vanshnookenraggen.com/_index/2017/05/a-complete-and-geographically-accurate-nyc-subway-track-map/"
   ]
  },
  {
   "cell_type": "code",
   "execution_count": 2,
   "metadata": {},
   "outputs": [],
   "source": [
    "def bs_parse_table(url,table_name):\n",
    "    soup = BeautifulSoup(open(url), \"html5lib\")\n",
    "    soup_table = soup.find('table', id=table_name)\n",
    "    return soup_table"
   ]
  },
  {
   "cell_type": "code",
   "execution_count": 3,
   "metadata": {},
   "outputs": [],
   "source": [
    "def extract_header_from_soup(soup_table):\n",
    "    header_array = []\n",
    "    for header_values in soup_table.find_all('th'):\n",
    "        header_array.append(header_values.get_text().strip())\n",
    "    switch = header_array.pop()\n",
    "    header_array.append('pct_change')\n",
    "    header_array.append(switch)\n",
    "    header_array.append('borough')\n",
    "    return header_array"
   ]
  },
  {
   "cell_type": "code",
   "execution_count": 4,
   "metadata": {},
   "outputs": [],
   "source": [
    "def listify_table(soup_table):\n",
    "    table_list = []\n",
    "\n",
    "    for row in soup_table.find_all('tr'):\n",
    "        current_row_list = []\n",
    "        for cell in row.find_all('td'):\n",
    "            if len(cell) > 0 and 'alt' in str(cell.contents[0]):\n",
    "                station_info = []\n",
    "                station_info.append(cell.get_text())\n",
    "                other_name_tags = cell.find_all(\"img\")\n",
    "                if len(other_name_tags)>0:\n",
    "                    for alt_text_in in other_name_tags:\n",
    "                        station_info.append(alt_text_in.get('alt'))\n",
    "                current_row_list.append(station_info)\n",
    "            else:\n",
    "                current_row_list.append(cell.get_text())\n",
    "        table_list.append(current_row_list)\n",
    "        \n",
    "    new_table = []\n",
    "    for row in table_list:\n",
    "        new_row = row.copy()\n",
    "        if len(row)==1:\n",
    "            current_borough = row[0].lower().replace(' ','_')\n",
    "        if len(row)>0 and row[0]=='Brooklyn':\n",
    "            current_borough = 'city_wide_stuff'\n",
    "        if len(row)==10 and len(row[4])>0:\n",
    "            new_row.append(current_borough)\n",
    "            new_table.append(new_row)        \n",
    "    return new_table"
   ]
  },
  {
   "cell_type": "code",
   "execution_count": 5,
   "metadata": {},
   "outputs": [],
   "source": [
    "def station_information_parser(new_table):\n",
    "    stations = []\n",
    "    line_details = []\n",
    "    for row in new_table:\n",
    "        current_subway_lines = []\n",
    "        if isinstance(row[0], str):\n",
    "            current_subway_lines=[]\n",
    "            stations.append('')\n",
    "            line_details.append(current_subway_lines)\n",
    "        else:\n",
    "            for i in range (0,len(row[0])):\n",
    "                if i==0:\n",
    "                    cleaned_name = re.sub( '\\s+', ' ', row[0][i]).strip()\n",
    "                    stations.append(cleaned_name)\n",
    "                else:\n",
    "                    line_number = row[0][i].replace('subway','').replace('icon','').replace('train','').strip()\n",
    "                    current_subway_lines.append(line_number)\n",
    "            line_details.append(current_subway_lines)\n",
    "    return stations, line_details"
   ]
  },
  {
   "cell_type": "code",
   "execution_count": 9,
   "metadata": {},
   "outputs": [],
   "source": [
    "def generate_parsed_df(url,table_name):\n",
    "    bs_table_object = bs_parse_table(url,table_name)\n",
    "    header_array = extract_header_from_soup(bs_table_object)\n",
    "    table_array = listify_table(bs_table_object)\n",
    "    ridership_output = pd.DataFrame(table_array,columns = header_array)\n",
    "    station_line = station_information_parser(table_array)\n",
    "    ridership_output.loc[:,('station_name')] = station_line[0]\n",
    "    ridership_output.loc[:,('lines_stopping_here')] = station_line[1]\n",
    "    return ridership_output"
   ]
  },
  {
   "cell_type": "code",
   "execution_count": 10,
   "metadata": {},
   "outputs": [],
   "source": [
    "path_2011_2016_annual = \"../raw/mta_facts_and_figures_annual_station_ridership_02_22_2018.htm\"\n",
    "df_2011_2016_annual = generate_parsed_df(path_2011_2016_annual,\"subway\")"
   ]
  },
  {
   "cell_type": "code",
   "execution_count": 11,
   "metadata": {},
   "outputs": [],
   "source": [
    "path_2007_2012_annual = \"../raw/mta_facts_and_figures_annual_station_ridership_07_07_2013.htm\"\n",
    "df_2007_2012_annual = generate_parsed_df(path_2007_2012_annual,\"subway\")"
   ]
  },
  {
   "cell_type": "code",
   "execution_count": 12,
   "metadata": {},
   "outputs": [],
   "source": [
    "#http://web.mta.info/nyct/facts/ridership/ridership_sub.htm\n",
    "#path_2011_2016_average_weekday = \"../raw/mta_facts_and_figures_average_weekday_station_ridership_02_23_2018.htm\"\n",
    "#df_2011_2016_average_weekday = generate_parsed_df(path_2011_2016_average_weekday,\"subway\")"
   ]
  },
  {
   "cell_type": "code",
   "execution_count": 13,
   "metadata": {},
   "outputs": [],
   "source": [
    "#http://web.mta.info/nyct/facts/ridership/ridership_sub.htm\n",
    "#path_2007_2012_average_weekday = \"../raw/mta_facts_and_figures_average_weekday_station_ridership_07_07_2013.htm\"\n",
    "#df_2007_2012_average_weekday = generate_parsed_df(path_2007_2012_average_weekday,\"subway\")"
   ]
  },
  {
   "cell_type": "code",
   "execution_count": 14,
   "metadata": {},
   "outputs": [],
   "source": [
    "#df_2011_2016_average_weekday.to_csv('../cleaned/2011_2016_average_weekday.csv',index=False)\n",
    "#df_2007_2012_average_weekday.to_csv('../cleaned/2007_2012_average_weekday.csv',index=False)"
   ]
  },
  {
   "cell_type": "code",
   "execution_count": 15,
   "metadata": {},
   "outputs": [
    {
     "data": {
      "text/plain": [
       "Index(['Station (alphabetical by borough)', '2007', '2008', '2009', '2010',\n",
       "       '2011', '2012', '2011-12 Change', 'pct_change', '2012 Rank', 'borough',\n",
       "       'station_name', 'lines_stopping_here'],\n",
       "      dtype='object')"
      ]
     },
     "execution_count": 15,
     "metadata": {},
     "output_type": "execute_result"
    }
   ],
   "source": [
    "df_2007_2012_annual.columns"
   ]
  },
  {
   "cell_type": "code",
   "execution_count": 16,
   "metadata": {},
   "outputs": [
    {
     "data": {
      "text/plain": [
       "Index(['Station (alphabetical by borough)', '2011', '2012', '2013', '2014',\n",
       "       '2015', '2016', '2015-2016 Change', 'pct_change', '2016 Rank',\n",
       "       'borough', 'station_name', 'lines_stopping_here'],\n",
       "      dtype='object')"
      ]
     },
     "execution_count": 16,
     "metadata": {},
     "output_type": "execute_result"
    }
   ],
   "source": [
    "df_2011_2016_annual.columns"
   ]
  },
  {
   "cell_type": "code",
   "execution_count": 17,
   "metadata": {},
   "outputs": [
    {
     "data": {
      "text/plain": [
       "1755724826"
      ]
     },
     "execution_count": 17,
     "metadata": {},
     "output_type": "execute_result"
    }
   ],
   "source": [
    "df_2011_2016_annual[:-6]['2016'].str.replace(',','').astype(int).sum()"
   ]
  },
  {
   "cell_type": "code",
   "execution_count": 18,
   "metadata": {},
   "outputs": [
    {
     "data": {
      "text/html": [
       "<div>\n",
       "<style scoped>\n",
       "    .dataframe tbody tr th:only-of-type {\n",
       "        vertical-align: middle;\n",
       "    }\n",
       "\n",
       "    .dataframe tbody tr th {\n",
       "        vertical-align: top;\n",
       "    }\n",
       "\n",
       "    .dataframe thead th {\n",
       "        text-align: right;\n",
       "    }\n",
       "</style>\n",
       "<table border=\"1\" class=\"dataframe\">\n",
       "  <thead>\n",
       "    <tr style=\"text-align: right;\">\n",
       "      <th></th>\n",
       "      <th>Station (alphabetical by borough)</th>\n",
       "      <th>2011</th>\n",
       "      <th>2012</th>\n",
       "      <th>2013</th>\n",
       "      <th>2014</th>\n",
       "      <th>2015</th>\n",
       "      <th>2016</th>\n",
       "      <th>borough</th>\n",
       "      <th>station_name</th>\n",
       "      <th>lines_stopping_here</th>\n",
       "    </tr>\n",
       "  </thead>\n",
       "  <tbody>\n",
       "    <tr>\n",
       "      <th>0</th>\n",
       "      <td>[149 St-Grand    Concourse   , 2 subway, 4 sub...</td>\n",
       "      <td>4,169,699</td>\n",
       "      <td>4,104,847</td>\n",
       "      <td>4,427,399</td>\n",
       "      <td>4,536,888</td>\n",
       "      <td>4,424,754</td>\n",
       "      <td>4,381,900</td>\n",
       "      <td>the_bronx</td>\n",
       "      <td>149 St-Grand Concourse</td>\n",
       "      <td>[2, 4, 5]</td>\n",
       "    </tr>\n",
       "    <tr>\n",
       "      <th>1</th>\n",
       "      <td>[161 St-Yankee    Stadium   , B subway, D subw...</td>\n",
       "      <td>8,605,893</td>\n",
       "      <td>8,831,015</td>\n",
       "      <td>8,766,012</td>\n",
       "      <td>8,961,029</td>\n",
       "      <td>8,922,188</td>\n",
       "      <td>8,784,407</td>\n",
       "      <td>the_bronx</td>\n",
       "      <td>161 St-Yankee Stadium</td>\n",
       "      <td>[B, D, 4]</td>\n",
       "    </tr>\n",
       "    <tr>\n",
       "      <th>2</th>\n",
       "      <td>[167 St    , 4 subway]</td>\n",
       "      <td>2,978,748</td>\n",
       "      <td>3,039,634</td>\n",
       "      <td>3,081,534</td>\n",
       "      <td>3,067,345</td>\n",
       "      <td>3,180,274</td>\n",
       "      <td>3,179,087</td>\n",
       "      <td>the_bronx</td>\n",
       "      <td>167 St</td>\n",
       "      <td>[4]</td>\n",
       "    </tr>\n",
       "    <tr>\n",
       "      <th>3</th>\n",
       "      <td>[167 St    , B subway, D subway]</td>\n",
       "      <td>2,952,368</td>\n",
       "      <td>2,972,535</td>\n",
       "      <td>3,091,289</td>\n",
       "      <td>3,245,977</td>\n",
       "      <td>3,295,032</td>\n",
       "      <td>3,365,748</td>\n",
       "      <td>the_bronx</td>\n",
       "      <td>167 St</td>\n",
       "      <td>[B, D]</td>\n",
       "    </tr>\n",
       "    <tr>\n",
       "      <th>4</th>\n",
       "      <td>[170 St    , 4 subway]</td>\n",
       "      <td>2,954,573</td>\n",
       "      <td>2,980,786</td>\n",
       "      <td>2,961,575</td>\n",
       "      <td>2,941,958</td>\n",
       "      <td>3,045,205</td>\n",
       "      <td>3,038,777</td>\n",
       "      <td>the_bronx</td>\n",
       "      <td>170 St</td>\n",
       "      <td>[4]</td>\n",
       "    </tr>\n",
       "  </tbody>\n",
       "</table>\n",
       "</div>"
      ],
      "text/plain": [
       "                   Station (alphabetical by borough)       2011       2012  \\\n",
       "0  [149 St-Grand    Concourse   , 2 subway, 4 sub...  4,169,699  4,104,847   \n",
       "1  [161 St-Yankee    Stadium   , B subway, D subw...  8,605,893  8,831,015   \n",
       "2                             [167 St    , 4 subway]  2,978,748  3,039,634   \n",
       "3                   [167 St    , B subway, D subway]  2,952,368  2,972,535   \n",
       "4                             [170 St    , 4 subway]  2,954,573  2,980,786   \n",
       "\n",
       "        2013       2014       2015       2016    borough  \\\n",
       "0  4,427,399  4,536,888  4,424,754  4,381,900  the_bronx   \n",
       "1  8,766,012  8,961,029  8,922,188  8,784,407  the_bronx   \n",
       "2  3,081,534  3,067,345  3,180,274  3,179,087  the_bronx   \n",
       "3  3,091,289  3,245,977  3,295,032  3,365,748  the_bronx   \n",
       "4  2,961,575  2,941,958  3,045,205  3,038,777  the_bronx   \n",
       "\n",
       "             station_name lines_stopping_here  \n",
       "0  149 St-Grand Concourse           [2, 4, 5]  \n",
       "1   161 St-Yankee Stadium           [B, D, 4]  \n",
       "2                  167 St                 [4]  \n",
       "3                  167 St              [B, D]  \n",
       "4                  170 St                 [4]  "
      ]
     },
     "execution_count": 18,
     "metadata": {},
     "output_type": "execute_result"
    }
   ],
   "source": [
    "df_2011_2016_annual.drop(['2015-2016 Change','pct_change','2016 Rank'],axis=1).head()"
   ]
  },
  {
   "cell_type": "code",
   "execution_count": 19,
   "metadata": {},
   "outputs": [],
   "source": [
    "hack_for_unreported = pd.DataFrame(['138 St-Grand Concourse','917,911','939,284','957,984','1,033,559','1,056,380',\\\n",
    " '1,070,024','the_bronx','138 St-Grand Concourse',['4','5']]).transpose()"
   ]
  },
  {
   "cell_type": "code",
   "execution_count": 20,
   "metadata": {},
   "outputs": [],
   "source": [
    "hack_for_unreported.columns=['Station (alphabetical by borough)',\\\n",
    "                             '2011','2012','2013','2014','2015','2016','borough','station_name','lines_stopping_here']"
   ]
  },
  {
   "cell_type": "code",
   "execution_count": 21,
   "metadata": {},
   "outputs": [
    {
     "data": {
      "text/html": [
       "<div>\n",
       "<style scoped>\n",
       "    .dataframe tbody tr th:only-of-type {\n",
       "        vertical-align: middle;\n",
       "    }\n",
       "\n",
       "    .dataframe tbody tr th {\n",
       "        vertical-align: top;\n",
       "    }\n",
       "\n",
       "    .dataframe thead th {\n",
       "        text-align: right;\n",
       "    }\n",
       "</style>\n",
       "<table border=\"1\" class=\"dataframe\">\n",
       "  <thead>\n",
       "    <tr style=\"text-align: right;\">\n",
       "      <th></th>\n",
       "      <th>Station (alphabetical by borough)</th>\n",
       "      <th>2011</th>\n",
       "      <th>2012</th>\n",
       "      <th>2013</th>\n",
       "      <th>2014</th>\n",
       "      <th>2015</th>\n",
       "      <th>2016</th>\n",
       "      <th>borough</th>\n",
       "      <th>station_name</th>\n",
       "      <th>lines_stopping_here</th>\n",
       "    </tr>\n",
       "  </thead>\n",
       "  <tbody>\n",
       "    <tr>\n",
       "      <th>0</th>\n",
       "      <td>138 St-Grand Concourse</td>\n",
       "      <td>917,911</td>\n",
       "      <td>939,284</td>\n",
       "      <td>957,984</td>\n",
       "      <td>1,033,559</td>\n",
       "      <td>1,056,380</td>\n",
       "      <td>1,070,024</td>\n",
       "      <td>the_bronx</td>\n",
       "      <td>138 St-Grand Concourse</td>\n",
       "      <td>[4, 5]</td>\n",
       "    </tr>\n",
       "  </tbody>\n",
       "</table>\n",
       "</div>"
      ],
      "text/plain": [
       "  Station (alphabetical by borough)     2011     2012     2013       2014  \\\n",
       "0            138 St-Grand Concourse  917,911  939,284  957,984  1,033,559   \n",
       "\n",
       "        2015       2016    borough            station_name lines_stopping_here  \n",
       "0  1,056,380  1,070,024  the_bronx  138 St-Grand Concourse              [4, 5]  "
      ]
     },
     "execution_count": 21,
     "metadata": {},
     "output_type": "execute_result"
    }
   ],
   "source": [
    "hack_for_unreported"
   ]
  },
  {
   "cell_type": "code",
   "execution_count": 22,
   "metadata": {},
   "outputs": [],
   "source": [
    "df_2011_2016_annual_enriched=pd.concat([hack_for_unreported,\\\n",
    "        df_2011_2016_annual.drop(['2015-2016 Change','pct_change','2016 Rank'],axis=1)])\n",
    "        "
   ]
  },
  {
   "cell_type": "code",
   "execution_count": 23,
   "metadata": {},
   "outputs": [],
   "source": [
    "def print_full(x):\n",
    "    pd.set_option('display.max_rows', len(x))\n",
    "    display(x)\n",
    "    pd.reset_option('display.max_rows')"
   ]
  },
  {
   "cell_type": "code",
   "execution_count": 24,
   "metadata": {},
   "outputs": [
    {
     "data": {
      "text/html": [
       "<div>\n",
       "<style scoped>\n",
       "    .dataframe tbody tr th:only-of-type {\n",
       "        vertical-align: middle;\n",
       "    }\n",
       "\n",
       "    .dataframe tbody tr th {\n",
       "        vertical-align: top;\n",
       "    }\n",
       "\n",
       "    .dataframe thead th {\n",
       "        text-align: right;\n",
       "    }\n",
       "</style>\n",
       "<table border=\"1\" class=\"dataframe\">\n",
       "  <thead>\n",
       "    <tr style=\"text-align: right;\">\n",
       "      <th></th>\n",
       "      <th>Station (alphabetical by borough)</th>\n",
       "      <th>2007</th>\n",
       "      <th>2008</th>\n",
       "      <th>2009</th>\n",
       "      <th>2010</th>\n",
       "      <th>2011</th>\n",
       "      <th>2012</th>\n",
       "      <th>2011-12 Change</th>\n",
       "      <th>pct_change</th>\n",
       "      <th>2012 Rank</th>\n",
       "      <th>borough</th>\n",
       "      <th>station_name</th>\n",
       "      <th>lines_stopping_here</th>\n",
       "    </tr>\n",
       "  </thead>\n",
       "  <tbody>\n",
       "    <tr>\n",
       "      <th>276</th>\n",
       "      <td>[49 St   , N train icon, Q train icon, R train...</td>\n",
       "      <td>7,976,466</td>\n",
       "      <td>8,106,715</td>\n",
       "      <td>7,817,461</td>\n",
       "      <td>8,139,011</td>\n",
       "      <td>8,121,552</td>\n",
       "      <td>8,186,576</td>\n",
       "      <td>+65,024</td>\n",
       "      <td>+0.8%</td>\n",
       "      <td>41</td>\n",
       "      <td>manhattan</td>\n",
       "      <td>49 St</td>\n",
       "      <td>[N, Q, R]</td>\n",
       "    </tr>\n",
       "  </tbody>\n",
       "</table>\n",
       "</div>"
      ],
      "text/plain": [
       "                     Station (alphabetical by borough)       2007       2008  \\\n",
       "276  [49 St   , N train icon, Q train icon, R train...  7,976,466  8,106,715   \n",
       "\n",
       "          2009       2010       2011       2012 2011-12 Change pct_change  \\\n",
       "276  7,817,461  8,139,011  8,121,552  8,186,576        +65,024      +0.8%   \n",
       "\n",
       "    2012 Rank    borough station_name lines_stopping_here  \n",
       "276        41  manhattan        49 St           [N, Q, R]  "
      ]
     },
     "execution_count": 24,
     "metadata": {},
     "output_type": "execute_result"
    }
   ],
   "source": [
    "df_2007_2012_annual.query('station_name==\"49 St\"')"
   ]
  },
  {
   "cell_type": "code",
   "execution_count": 25,
   "metadata": {},
   "outputs": [
    {
     "data": {
      "text/html": [
       "<div>\n",
       "<style scoped>\n",
       "    .dataframe tbody tr th:only-of-type {\n",
       "        vertical-align: middle;\n",
       "    }\n",
       "\n",
       "    .dataframe tbody tr th {\n",
       "        vertical-align: top;\n",
       "    }\n",
       "\n",
       "    .dataframe thead th {\n",
       "        text-align: right;\n",
       "    }\n",
       "</style>\n",
       "<table border=\"1\" class=\"dataframe\">\n",
       "  <thead>\n",
       "    <tr style=\"text-align: right;\">\n",
       "      <th></th>\n",
       "      <th>Station (alphabetical by borough)</th>\n",
       "      <th>2011</th>\n",
       "      <th>2012</th>\n",
       "      <th>2013</th>\n",
       "      <th>2014</th>\n",
       "      <th>2015</th>\n",
       "      <th>2016</th>\n",
       "      <th>borough</th>\n",
       "      <th>station_name</th>\n",
       "      <th>lines_stopping_here</th>\n",
       "    </tr>\n",
       "  </thead>\n",
       "  <tbody>\n",
       "    <tr>\n",
       "      <th>276</th>\n",
       "      <td>[49 St    , N subway, W subway, R subway]</td>\n",
       "      <td>8,121,552</td>\n",
       "      <td>8,186,576</td>\n",
       "      <td>8,155,010</td>\n",
       "      <td>8,544,694</td>\n",
       "      <td>8,029,988</td>\n",
       "      <td>8,754,627</td>\n",
       "      <td>manhattan</td>\n",
       "      <td>49 St</td>\n",
       "      <td>[N, W, R]</td>\n",
       "    </tr>\n",
       "  </tbody>\n",
       "</table>\n",
       "</div>"
      ],
      "text/plain": [
       "             Station (alphabetical by borough)       2011       2012  \\\n",
       "276  [49 St    , N subway, W subway, R subway]  8,121,552  8,186,576   \n",
       "\n",
       "          2013       2014       2015       2016    borough station_name  \\\n",
       "276  8,155,010  8,544,694  8,029,988  8,754,627  manhattan        49 St   \n",
       "\n",
       "    lines_stopping_here  \n",
       "276           [N, W, R]  "
      ]
     },
     "execution_count": 25,
     "metadata": {},
     "output_type": "execute_result"
    }
   ],
   "source": [
    "df_2011_2016_annual_enriched.query('station_name==\"49 St\"')"
   ]
  },
  {
   "cell_type": "code",
   "execution_count": 26,
   "metadata": {},
   "outputs": [],
   "source": [
    "all_years_annual = pd.merge(df_2007_2012_annual\\\n",
    "                    .drop(['2011-12 Change','pct_change','2012 Rank',\\\n",
    "                           'Station (alphabetical by borough)','station_name',\\\n",
    "                           'borough','lines_stopping_here'],axis=1),\\\n",
    "         df_2011_2016_annual_enriched,\\\n",
    "         left_on=['2011','2012'],right_on=['2011','2012'],how=\"outer\")\n"
   ]
  },
  {
   "cell_type": "code",
   "execution_count": 27,
   "metadata": {},
   "outputs": [
    {
     "data": {
      "text/html": [
       "<div>\n",
       "<style scoped>\n",
       "    .dataframe tbody tr th:only-of-type {\n",
       "        vertical-align: middle;\n",
       "    }\n",
       "\n",
       "    .dataframe tbody tr th {\n",
       "        vertical-align: top;\n",
       "    }\n",
       "\n",
       "    .dataframe thead th {\n",
       "        text-align: right;\n",
       "    }\n",
       "</style>\n",
       "<table border=\"1\" class=\"dataframe\">\n",
       "  <thead>\n",
       "    <tr style=\"text-align: right;\">\n",
       "      <th></th>\n",
       "      <th>Station (alphabetical by borough)</th>\n",
       "      <th>2011</th>\n",
       "      <th>2012</th>\n",
       "      <th>2013</th>\n",
       "      <th>2014</th>\n",
       "      <th>2015</th>\n",
       "      <th>2016</th>\n",
       "      <th>borough</th>\n",
       "      <th>station_name</th>\n",
       "      <th>lines_stopping_here</th>\n",
       "    </tr>\n",
       "  </thead>\n",
       "  <tbody>\n",
       "    <tr>\n",
       "      <th>315</th>\n",
       "      <td>[Cortlandt St    , 1 subway]</td>\n",
       "      <td>0</td>\n",
       "      <td>0</td>\n",
       "      <td>0</td>\n",
       "      <td>0</td>\n",
       "      <td>0</td>\n",
       "      <td>0</td>\n",
       "      <td>manhattan</td>\n",
       "      <td>Cortlandt St</td>\n",
       "      <td>[1]</td>\n",
       "    </tr>\n",
       "    <tr>\n",
       "      <th>316</th>\n",
       "      <td>[Cortlandt St     , R subway, W subway]</td>\n",
       "      <td>1,640,638</td>\n",
       "      <td>2,062,289</td>\n",
       "      <td>1,601,732</td>\n",
       "      <td>1,500,040</td>\n",
       "      <td>2,713,532</td>\n",
       "      <td>4,270,036</td>\n",
       "      <td>manhattan</td>\n",
       "      <td>Cortlandt St</td>\n",
       "      <td>[R, W]</td>\n",
       "    </tr>\n",
       "  </tbody>\n",
       "</table>\n",
       "</div>"
      ],
      "text/plain": [
       "           Station (alphabetical by borough)       2011       2012       2013  \\\n",
       "315             [Cortlandt St    , 1 subway]          0          0          0   \n",
       "316  [Cortlandt St     , R subway, W subway]  1,640,638  2,062,289  1,601,732   \n",
       "\n",
       "          2014       2015       2016    borough  station_name  \\\n",
       "315          0          0          0  manhattan  Cortlandt St   \n",
       "316  1,500,040  2,713,532  4,270,036  manhattan  Cortlandt St   \n",
       "\n",
       "    lines_stopping_here  \n",
       "315                 [1]  \n",
       "316              [R, W]  "
      ]
     },
     "execution_count": 27,
     "metadata": {},
     "output_type": "execute_result"
    }
   ],
   "source": [
    "df_2011_2016_annual_enriched.query('station_name==\"Cortlandt St\"')"
   ]
  },
  {
   "cell_type": "code",
   "execution_count": 28,
   "metadata": {},
   "outputs": [],
   "source": [
    "all_years_annual = all_years_annual.rename(columns={'Station (alphabetical by borough)':'station_full_name'})"
   ]
  },
  {
   "cell_type": "code",
   "execution_count": 29,
   "metadata": {},
   "outputs": [],
   "source": [
    "all_borough_fix = all_years_annual[:-7].copy()\n",
    "all_borough_fix.loc[:,('borough')]=\\\n",
    "    all_borough_fix.loc[:,('borough')].str.replace('city_wide_stuff','brooklyn')"
   ]
  },
  {
   "cell_type": "code",
   "execution_count": 30,
   "metadata": {},
   "outputs": [],
   "source": [
    "all_years_annual_fix = pd.concat([all_borough_fix,all_years_annual[-7:].copy()])"
   ]
  },
  {
   "cell_type": "code",
   "execution_count": 31,
   "metadata": {},
   "outputs": [
    {
     "data": {
      "text/plain": [
       "array(['the_bronx', 'brooklyn', 'manhattan', 'queens', 'city_wide_stuff'],\n",
       "      dtype=object)"
      ]
     },
     "execution_count": 31,
     "metadata": {},
     "output_type": "execute_result"
    }
   ],
   "source": [
    "all_years_annual_fix.borough.unique()"
   ]
  },
  {
   "cell_type": "code",
   "execution_count": 32,
   "metadata": {},
   "outputs": [],
   "source": [
    "def borough_remap(in_string):\n",
    "    map_dict = {'manhattan':'M','the_bronx':'Bx','brooklyn':'B','queens':'Q','city_wide_stuff':'city_wide_stuff'}\n",
    "    return map_dict[in_string]"
   ]
  },
  {
   "cell_type": "code",
   "execution_count": 33,
   "metadata": {},
   "outputs": [],
   "source": [
    "all_years_annual_fix.loc[:,('borough')]=\\\n",
    "    all_years_annual_fix.loc[:,('borough')].apply(borough_remap)"
   ]
  },
  {
   "cell_type": "code",
   "execution_count": 34,
   "metadata": {},
   "outputs": [],
   "source": [
    "def line_string_maker(input_list):\n",
    "    i=0\n",
    "    output_string = ''\n",
    "    for item in input_list:\n",
    "        if i==0:\n",
    "            output_string=output_string+str(item)\n",
    "            i=i+1\n",
    "        else:\n",
    "            output_string=output_string+'_'+str(item)\n",
    "    return output_string"
   ]
  },
  {
   "cell_type": "code",
   "execution_count": 35,
   "metadata": {},
   "outputs": [],
   "source": [
    "all_years_annual_fix.loc[:,('station_key')]= all_years_annual_fix.loc[:,('station_name')]\\\n",
    "    .str.replace(' /','_').str.replace(' ','_').str.replace('-','_')\\\n",
    "    +'|'+all_years_annual_fix.loc[:,('lines_stopping_here')].apply(line_string_maker)"
   ]
  },
  {
   "cell_type": "code",
   "execution_count": 36,
   "metadata": {},
   "outputs": [],
   "source": [
    "all_years_annual_fix.loc[:,('line_designators_str')]=all_years_annual_fix.loc[:,('lines_stopping_here')]\\\n",
    "                                                          .apply(line_string_maker)"
   ]
  },
  {
   "cell_type": "code",
   "execution_count": 38,
   "metadata": {},
   "outputs": [],
   "source": [
    "i=0\n",
    "for column in range(2007,2017):\n",
    "    columns_to_select = ['station_full_name','borough','station_name','lines_stopping_here',\\\n",
    "                         'station_key','line_designators_str']\n",
    "    columns_to_select.append(str(column))\n",
    "    current = all_years_annual_fix[columns_to_select].copy()\n",
    "    current=current.rename(columns={str(column):'annual_ridership'})\n",
    "    current.loc[:,('year')]=column\n",
    "    if i==0:\n",
    "        all_years_annual_fix_stacked = current.copy()\n",
    "        i=i+1\n",
    "    else:\n",
    "        all_years_annual_fix_stacked=pd.concat([all_years_annual_fix_stacked,current.copy()])"
   ]
  },
  {
   "cell_type": "code",
   "execution_count": 39,
   "metadata": {},
   "outputs": [],
   "source": [
    "all_years_annual_fix_stacked.loc[:,('annual_ridership')] = \\\n",
    "    all_years_annual_fix_stacked.loc[:,('annual_ridership')].fillna('0')\\\n",
    "    .str.replace(u'\\xa0', '0')\\\n",
    "    .str.replace(',','').astype(int)"
   ]
  },
  {
   "cell_type": "code",
   "execution_count": 40,
   "metadata": {},
   "outputs": [],
   "source": [
    "def year_parser_end(input_string):\n",
    "    return pd.to_datetime(datetime.date(int(input_string),12,31))"
   ]
  },
  {
   "cell_type": "code",
   "execution_count": 41,
   "metadata": {},
   "outputs": [],
   "source": [
    "all_years_annual_fix_stacked.loc[:,('date_standardized')] = \\\n",
    "    all_years_annual_fix_stacked.loc[:,('year')].apply(year_parser_end)"
   ]
  },
  {
   "cell_type": "code",
   "execution_count": 42,
   "metadata": {},
   "outputs": [],
   "source": [
    "#all_years_annual_fix_stacked.to_csv(\\\n",
    "#    '../cleaned/stacked_ridership_2007_2016_short.csv',\\\n",
    "#    index=False)"
   ]
  },
  {
   "cell_type": "code",
   "execution_count": 43,
   "metadata": {},
   "outputs": [
    {
     "data": {
      "text/html": [
       "<div>\n",
       "<style scoped>\n",
       "    .dataframe tbody tr th:only-of-type {\n",
       "        vertical-align: middle;\n",
       "    }\n",
       "\n",
       "    .dataframe tbody tr th {\n",
       "        vertical-align: top;\n",
       "    }\n",
       "\n",
       "    .dataframe thead th {\n",
       "        text-align: right;\n",
       "    }\n",
       "</style>\n",
       "<table border=\"1\" class=\"dataframe\">\n",
       "  <thead>\n",
       "    <tr style=\"text-align: right;\">\n",
       "      <th></th>\n",
       "      <th>station_full_name</th>\n",
       "      <th>borough</th>\n",
       "      <th>station_name</th>\n",
       "      <th>lines_stopping_here</th>\n",
       "      <th>station_key</th>\n",
       "      <th>line_designators_str</th>\n",
       "      <th>annual_ridership</th>\n",
       "      <th>year</th>\n",
       "      <th>date_standardized</th>\n",
       "    </tr>\n",
       "  </thead>\n",
       "  <tbody>\n",
       "    <tr>\n",
       "      <th>0</th>\n",
       "      <td>138 St-Grand Concourse</td>\n",
       "      <td>Bx</td>\n",
       "      <td>138 St-Grand Concourse</td>\n",
       "      <td>[4, 5]</td>\n",
       "      <td>138_St_Grand_Concourse|4_5</td>\n",
       "      <td>4_5</td>\n",
       "      <td>800595</td>\n",
       "      <td>2007</td>\n",
       "      <td>2007-12-31</td>\n",
       "    </tr>\n",
       "    <tr>\n",
       "      <th>1</th>\n",
       "      <td>[149 St-Grand    Concourse   , 2 subway, 4 sub...</td>\n",
       "      <td>Bx</td>\n",
       "      <td>149 St-Grand Concourse</td>\n",
       "      <td>[2, 4, 5]</td>\n",
       "      <td>149_St_Grand_Concourse|2_4_5</td>\n",
       "      <td>2_4_5</td>\n",
       "      <td>3112547</td>\n",
       "      <td>2007</td>\n",
       "      <td>2007-12-31</td>\n",
       "    </tr>\n",
       "    <tr>\n",
       "      <th>2</th>\n",
       "      <td>[161 St-Yankee    Stadium   , B subway, D subw...</td>\n",
       "      <td>Bx</td>\n",
       "      <td>161 St-Yankee Stadium</td>\n",
       "      <td>[B, D, 4]</td>\n",
       "      <td>161_St_Yankee_Stadium|B_D_4</td>\n",
       "      <td>B_D_4</td>\n",
       "      <td>7836990</td>\n",
       "      <td>2007</td>\n",
       "      <td>2007-12-31</td>\n",
       "    </tr>\n",
       "    <tr>\n",
       "      <th>3</th>\n",
       "      <td>[167 St    , 4 subway]</td>\n",
       "      <td>Bx</td>\n",
       "      <td>167 St</td>\n",
       "      <td>[4]</td>\n",
       "      <td>167_St|4</td>\n",
       "      <td>4</td>\n",
       "      <td>2715327</td>\n",
       "      <td>2007</td>\n",
       "      <td>2007-12-31</td>\n",
       "    </tr>\n",
       "    <tr>\n",
       "      <th>4</th>\n",
       "      <td>[167 St    , B subway, D subway]</td>\n",
       "      <td>Bx</td>\n",
       "      <td>167 St</td>\n",
       "      <td>[B, D]</td>\n",
       "      <td>167_St|B_D</td>\n",
       "      <td>B_D</td>\n",
       "      <td>2834640</td>\n",
       "      <td>2007</td>\n",
       "      <td>2007-12-31</td>\n",
       "    </tr>\n",
       "  </tbody>\n",
       "</table>\n",
       "</div>"
      ],
      "text/plain": [
       "                                   station_full_name borough  \\\n",
       "0                             138 St-Grand Concourse      Bx   \n",
       "1  [149 St-Grand    Concourse   , 2 subway, 4 sub...      Bx   \n",
       "2  [161 St-Yankee    Stadium   , B subway, D subw...      Bx   \n",
       "3                             [167 St    , 4 subway]      Bx   \n",
       "4                   [167 St    , B subway, D subway]      Bx   \n",
       "\n",
       "             station_name lines_stopping_here                   station_key  \\\n",
       "0  138 St-Grand Concourse              [4, 5]    138_St_Grand_Concourse|4_5   \n",
       "1  149 St-Grand Concourse           [2, 4, 5]  149_St_Grand_Concourse|2_4_5   \n",
       "2   161 St-Yankee Stadium           [B, D, 4]   161_St_Yankee_Stadium|B_D_4   \n",
       "3                  167 St                 [4]                      167_St|4   \n",
       "4                  167 St              [B, D]                    167_St|B_D   \n",
       "\n",
       "  line_designators_str  annual_ridership  year date_standardized  \n",
       "0                  4_5            800595  2007        2007-12-31  \n",
       "1                2_4_5           3112547  2007        2007-12-31  \n",
       "2                B_D_4           7836990  2007        2007-12-31  \n",
       "3                    4           2715327  2007        2007-12-31  \n",
       "4                  B_D           2834640  2007        2007-12-31  "
      ]
     },
     "execution_count": 43,
     "metadata": {},
     "output_type": "execute_result"
    }
   ],
   "source": [
    "all_years_annual_fix_stacked.head()"
   ]
  },
  {
   "cell_type": "code",
   "execution_count": 44,
   "metadata": {},
   "outputs": [],
   "source": [
    "total_values = []\n",
    "for row in all_years_annual_fix_stacked.values:\n",
    "    current = row\n",
    "    for line in row[-6]:\n",
    "#        current = np.append(current.copy(),line)\n",
    "        total_values.append(np.append(current.copy(),line))\n",
    "    \n",
    "update_names = all_years_annual_fix_stacked.columns.tolist()\n",
    "update_names.append('line')    \n",
    "\n",
    "all_years_annual_fix_stacked_tall = pd.DataFrame(total_values,columns=update_names)\n",
    "\n",
    "all_years_annual_fix_stacked_tall_w = all_years_annual_fix_stacked_tall.query('line==\"W\"').copy()\n",
    "all_years_annual_fix_stacked_tall_non_w = all_years_annual_fix_stacked_tall.query('line!=\"W\"').copy()\n",
    "all_years_annual_fix_stacked_tall_w_n = \\\n",
    "        all_years_annual_fix_stacked_tall_w[all_years_annual_fix_stacked_tall_w[\"station_name\"]\\\n",
    "            .isin(['23 St','28 St','8 St-New York University','Prince St'])].copy()\n",
    "all_years_annual_fix_stacked_tall_w_q = \\\n",
    "        all_years_annual_fix_stacked_tall_w[~all_years_annual_fix_stacked_tall_w[\"station_name\"]\\\n",
    "            .isin(['23 St','28 St','8 St-New York University','City Hall','Cortlandt St','Prince St','Rector St',\\\n",
    "                   'South Ferry /Whitehall St'])].copy()    \n",
    "\n",
    "all_years_annual_fix_stacked_tall_w_q['line'] = all_years_annual_fix_stacked_tall_w_q['line'].str.replace('W','Q')\n",
    "all_years_annual_fix_stacked_tall_w_n['line'] = all_years_annual_fix_stacked_tall_w_n['line'].str.replace('W','N')\n",
    "\n",
    "all_years_annual_fix_stacked_tall = pd.concat([all_years_annual_fix_stacked_tall_non_w\\\n",
    "                                            ,all_years_annual_fix_stacked_tall_w_q\n",
    "                                             , all_years_annual_fix_stacked_tall_w_n])\n",
    "\n",
    "all_years_annual_fix_stacked_tall = all_years_annual_fix_stacked_tall.drop('station_full_name',axis=1)\n",
    "import ast\n",
    "def string_list_to_list(x):\n",
    "    return ast.literal_eval(x)\n",
    "\n",
    "all_years_annual_fix_stacked_tall.loc[:,('lines_stopping_here')]= \\\n",
    "    all_years_annual_fix_stacked_tall.loc[:,('lines_stopping_here')].astype(str)\n",
    "\n",
    "all_years_annual_fix_stacked_tall = all_years_annual_fix_stacked_tall.drop_duplicates()\n",
    "    \n",
    "all_years_annual_fix_stacked_tall = \\\n",
    "    all_years_annual_fix_stacked_tall.rename(columns={'lines_stopping_here':'line_designators'})"
   ]
  },
  {
   "cell_type": "code",
   "execution_count": 45,
   "metadata": {},
   "outputs": [],
   "source": [
    "all_years_annual_fix_stacked_tall.loc[:,('station_key_split')]=\\\n",
    "    all_years_annual_fix_stacked_tall.loc[:,('line')]+ \\\n",
    "    '|'+\\\n",
    "    all_years_annual_fix_stacked_tall.loc[:,('station_key')]"
   ]
  },
  {
   "cell_type": "code",
   "execution_count": 46,
   "metadata": {},
   "outputs": [
    {
     "data": {
      "text/html": [
       "<div>\n",
       "<style scoped>\n",
       "    .dataframe tbody tr th:only-of-type {\n",
       "        vertical-align: middle;\n",
       "    }\n",
       "\n",
       "    .dataframe tbody tr th {\n",
       "        vertical-align: top;\n",
       "    }\n",
       "\n",
       "    .dataframe thead th {\n",
       "        text-align: right;\n",
       "    }\n",
       "</style>\n",
       "<table border=\"1\" class=\"dataframe\">\n",
       "  <thead>\n",
       "    <tr style=\"text-align: right;\">\n",
       "      <th></th>\n",
       "      <th>borough</th>\n",
       "      <th>station_name</th>\n",
       "      <th>line_designators</th>\n",
       "      <th>station_key</th>\n",
       "      <th>line_designators_str</th>\n",
       "      <th>annual_ridership</th>\n",
       "      <th>year</th>\n",
       "      <th>date_standardized</th>\n",
       "      <th>line</th>\n",
       "      <th>station_key_split</th>\n",
       "    </tr>\n",
       "  </thead>\n",
       "  <tbody>\n",
       "    <tr>\n",
       "      <th>0</th>\n",
       "      <td>Bx</td>\n",
       "      <td>138 St-Grand Concourse</td>\n",
       "      <td>['4', '5']</td>\n",
       "      <td>138_St_Grand_Concourse|4_5</td>\n",
       "      <td>4_5</td>\n",
       "      <td>800595</td>\n",
       "      <td>2007</td>\n",
       "      <td>2007-12-31</td>\n",
       "      <td>4</td>\n",
       "      <td>4|138_St_Grand_Concourse|4_5</td>\n",
       "    </tr>\n",
       "    <tr>\n",
       "      <th>1</th>\n",
       "      <td>Bx</td>\n",
       "      <td>138 St-Grand Concourse</td>\n",
       "      <td>['4', '5']</td>\n",
       "      <td>138_St_Grand_Concourse|4_5</td>\n",
       "      <td>4_5</td>\n",
       "      <td>800595</td>\n",
       "      <td>2007</td>\n",
       "      <td>2007-12-31</td>\n",
       "      <td>5</td>\n",
       "      <td>5|138_St_Grand_Concourse|4_5</td>\n",
       "    </tr>\n",
       "    <tr>\n",
       "      <th>2</th>\n",
       "      <td>Bx</td>\n",
       "      <td>149 St-Grand Concourse</td>\n",
       "      <td>['2', '4', '5']</td>\n",
       "      <td>149_St_Grand_Concourse|2_4_5</td>\n",
       "      <td>2_4_5</td>\n",
       "      <td>3112547</td>\n",
       "      <td>2007</td>\n",
       "      <td>2007-12-31</td>\n",
       "      <td>2</td>\n",
       "      <td>2|149_St_Grand_Concourse|2_4_5</td>\n",
       "    </tr>\n",
       "    <tr>\n",
       "      <th>3</th>\n",
       "      <td>Bx</td>\n",
       "      <td>149 St-Grand Concourse</td>\n",
       "      <td>['2', '4', '5']</td>\n",
       "      <td>149_St_Grand_Concourse|2_4_5</td>\n",
       "      <td>2_4_5</td>\n",
       "      <td>3112547</td>\n",
       "      <td>2007</td>\n",
       "      <td>2007-12-31</td>\n",
       "      <td>4</td>\n",
       "      <td>4|149_St_Grand_Concourse|2_4_5</td>\n",
       "    </tr>\n",
       "    <tr>\n",
       "      <th>4</th>\n",
       "      <td>Bx</td>\n",
       "      <td>149 St-Grand Concourse</td>\n",
       "      <td>['2', '4', '5']</td>\n",
       "      <td>149_St_Grand_Concourse|2_4_5</td>\n",
       "      <td>2_4_5</td>\n",
       "      <td>3112547</td>\n",
       "      <td>2007</td>\n",
       "      <td>2007-12-31</td>\n",
       "      <td>5</td>\n",
       "      <td>5|149_St_Grand_Concourse|2_4_5</td>\n",
       "    </tr>\n",
       "  </tbody>\n",
       "</table>\n",
       "</div>"
      ],
      "text/plain": [
       "  borough            station_name line_designators  \\\n",
       "0      Bx  138 St-Grand Concourse       ['4', '5']   \n",
       "1      Bx  138 St-Grand Concourse       ['4', '5']   \n",
       "2      Bx  149 St-Grand Concourse  ['2', '4', '5']   \n",
       "3      Bx  149 St-Grand Concourse  ['2', '4', '5']   \n",
       "4      Bx  149 St-Grand Concourse  ['2', '4', '5']   \n",
       "\n",
       "                    station_key line_designators_str  annual_ridership  year  \\\n",
       "0    138_St_Grand_Concourse|4_5                  4_5            800595  2007   \n",
       "1    138_St_Grand_Concourse|4_5                  4_5            800595  2007   \n",
       "2  149_St_Grand_Concourse|2_4_5                2_4_5           3112547  2007   \n",
       "3  149_St_Grand_Concourse|2_4_5                2_4_5           3112547  2007   \n",
       "4  149_St_Grand_Concourse|2_4_5                2_4_5           3112547  2007   \n",
       "\n",
       "  date_standardized line               station_key_split  \n",
       "0        2007-12-31    4    4|138_St_Grand_Concourse|4_5  \n",
       "1        2007-12-31    5    5|138_St_Grand_Concourse|4_5  \n",
       "2        2007-12-31    2  2|149_St_Grand_Concourse|2_4_5  \n",
       "3        2007-12-31    4  4|149_St_Grand_Concourse|2_4_5  \n",
       "4        2007-12-31    5  5|149_St_Grand_Concourse|2_4_5  "
      ]
     },
     "execution_count": 46,
     "metadata": {},
     "output_type": "execute_result"
    }
   ],
   "source": [
    "all_years_annual_fix_stacked_tall.head()"
   ]
  },
  {
   "cell_type": "code",
   "execution_count": 47,
   "metadata": {},
   "outputs": [],
   "source": [
    "all_years_annual_fix_stacked_tall.to_csv(\\\n",
    "    '../cleaned/stacked_annual_ridership_web_2007_2016.csv',\\\n",
    "    index=False)"
   ]
  },
  {
   "cell_type": "code",
   "execution_count": null,
   "metadata": {},
   "outputs": [],
   "source": []
  }
 ],
 "metadata": {
  "kernelspec": {
   "display_name": "Python 3",
   "language": "python",
   "name": "python3"
  },
  "language_info": {
   "codemirror_mode": {
    "name": "ipython",
    "version": 3
   },
   "file_extension": ".py",
   "mimetype": "text/x-python",
   "name": "python",
   "nbconvert_exporter": "python",
   "pygments_lexer": "ipython3",
   "version": "3.6.4"
  }
 },
 "nbformat": 4,
 "nbformat_minor": 2
}
